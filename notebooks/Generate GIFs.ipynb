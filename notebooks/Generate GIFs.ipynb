{
 "cells": [
  {
   "cell_type": "code",
   "execution_count": null,
   "id": "5bda0cfe",
   "metadata": {},
   "outputs": [],
   "source": []
  },
  {
   "cell_type": "code",
   "execution_count": 8,
   "id": "e7f83b9c",
   "metadata": {
    "ExecuteTime": {
     "end_time": "2022-10-18T22:20:53.560637Z",
     "start_time": "2022-10-18T22:20:52.693953Z"
    }
   },
   "outputs": [],
   "source": [
    "from PIL import Image, ImageDraw, ImageFont\n",
    "\n",
    "fnt = ImageFont.truetype(\"Arial.ttf\", 36)\n",
    "\n",
    "def create_image_with_text(wh, text):\n",
    "    width, height = wh\n",
    "    img = Image.new('RGB', (300, 50), (245,230,180))\n",
    "    draw = ImageDraw.Draw(img)\n",
    "    # draw.ellipse takes a 4-tuple (x0, y0, x1, y1) where (x0, y0) is the top-left bound of the box\n",
    "    # and (x1, y1) is the lower-right bound of the box.\n",
    "    draw.text((width, height), text, font=fnt, fill=\"black\")\n",
    "    return img\n",
    "# Create the frames\n",
    "frames = []\n",
    "x, y = 300, 0\n",
    "for i in range(250):\n",
    "    new_frame = create_image_with_text((x,y), \"Have you ever *watched* a 4D-array?\")\n",
    "    frames.append(new_frame)\n",
    "    x -= 4\n",
    "\n",
    "# Save into a GIF file that loops forever\n",
    "frames[0].save('moving_text.gif', format='GIF',\n",
    "               append_images=frames[1:], save_all=True, duration=30, loop=0)"
   ]
  },
  {
   "cell_type": "code",
   "execution_count": 35,
   "id": "467a40a3",
   "metadata": {
    "ExecuteTime": {
     "end_time": "2022-07-05T09:04:59.719192Z",
     "start_time": "2022-07-05T09:04:59.523313Z"
    }
   },
   "outputs": [],
   "source": [
    "from PIL import Image, ImageDraw, ImageFont\n",
    "\n",
    "fnt = ImageFont.truetype(\"OpenSans-SemiBold.ttf\", 36)\n",
    "def create_image_with_text(wh, text):\n",
    "    global img\n",
    "    width, height = wh\n",
    "    img = Image.new('RGB', (650, 55), (55, 55, 55))\n",
    "    draw = ImageDraw.Draw(img)\n",
    "    # draw.ellipse takes a 4-tuple (x0, y0, x1, y1) where (x0, y0) is the top-left bound of the box\n",
    "    # and (x1, y1) is the lower-right bound of the box.\n",
    "    draw.text((width, height), text, font = fnt, fill=(240,210,130))\n",
    "    return img\n",
    "\n",
    "# Create the frames\n",
    "frames = []\n",
    "x, y = 0, 0\n",
    "string = \"have you ever *watched* a 4D-array?\"\n",
    "\n",
    "for i in range(len(string)):\n",
    "    new_frame = create_image_with_text((x,y), string[:i+1])\n",
    "    frames.append(new_frame)\n",
    "\n",
    "for i in range(5):\n",
    "    frames.append(new_frame)\n",
    "\n",
    "# Save into a GIF file that loops forever\n",
    "frames[0].save('progressive_text.gif', format='GIF',\n",
    "               append_images=frames[1:], save_all=True, duration=100, loop=0)"
   ]
  },
  {
   "cell_type": "code",
   "execution_count": null,
   "id": "94682e99",
   "metadata": {},
   "outputs": [],
   "source": []
  }
 ],
 "metadata": {
  "kernelspec": {
   "display_name": "Python 3.8.13 ('lewagon_new')",
   "language": "python",
   "name": "python3"
  },
  "language_info": {
   "codemirror_mode": {
    "name": "ipython",
    "version": 3
   },
   "file_extension": ".py",
   "mimetype": "text/x-python",
   "name": "python",
   "nbconvert_exporter": "python",
   "pygments_lexer": "ipython3",
   "version": "3.8.13"
  },
  "toc": {
   "base_numbering": 1,
   "nav_menu": {},
   "number_sections": true,
   "sideBar": true,
   "skip_h1_title": false,
   "title_cell": "Table of Contents",
   "title_sidebar": "Contents",
   "toc_cell": false,
   "toc_position": {},
   "toc_section_display": true,
   "toc_window_display": false
  },
  "vscode": {
   "interpreter": {
    "hash": "fd42e17c364c4a110ec2db10face907de5557af142d7ef6f82a66c1bc41e903b"
   }
  }
 },
 "nbformat": 4,
 "nbformat_minor": 5
}
