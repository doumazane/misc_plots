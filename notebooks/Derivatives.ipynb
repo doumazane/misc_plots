{
 "cells": [
  {
   "cell_type": "markdown",
   "id": "e8218a86",
   "metadata": {},
   "source": [
    "## Minimal"
   ]
  },
  {
   "cell_type": "code",
   "execution_count": 2,
   "id": "ef5af73d",
   "metadata": {
    "ExecuteTime": {
     "end_time": "2022-11-06T09:08:03.190256Z",
     "start_time": "2022-11-06T09:08:02.761022Z"
    }
   },
   "outputs": [],
   "source": [
    "import matplotlib.pyplot as plt\n",
    "import numpy as np\n",
    "from ipywidgets import interact\n"
   ]
  },
  {
   "cell_type": "code",
   "execution_count": 4,
   "id": "e8b0dd54",
   "metadata": {
    "ExecuteTime": {
     "end_time": "2022-11-06T09:08:08.267671Z",
     "start_time": "2022-11-06T09:08:08.074457Z"
    }
   },
   "outputs": [
    {
     "data": {
      "application/vnd.jupyter.widget-view+json": {
       "model_id": "33dd8cb1e22542d19c5b03ce26bd80b5",
       "version_major": 2,
       "version_minor": 0
      },
      "text/plain": [
       "interactive(children=(FloatSlider(value=2.5, description='a', max=4.49, min=-1.0, step=0.01), FloatSlider(valu…"
      ]
     },
     "metadata": {},
     "output_type": "display_data"
    }
   ],
   "source": [
    "import matplotlib.pyplot as plt\n",
    "import numpy as np\n",
    "from ipywidgets import interact\n",
    "\n",
    "def draw_point(fun, x):\n",
    "    plt.vlines(x, -2, fun(x), colors='k', linestyles=\":\", linewidths=1)\n",
    "    plt.hlines(fun(x), -1, x, colors='k', linestyles=\":\", linewidths=1)\n",
    "    plt.plot(x, fun(x), \"o\", c='g')\n",
    "\n",
    "def draw_line(fun, x1, x2):\n",
    "    draw_point(fun, np.array([x1, x2]))\n",
    "    slope = (fun(x2)-fun(x1))/(x2 - x1)\n",
    "    intercept = fun(x1) - x1 * slope\n",
    "    ax = plt.gca()\n",
    "    x = np.array(ax.get_xlim())\n",
    "    ax.plot(x, slope*x + intercept) \n",
    "    return slope\n",
    "\n",
    "fun = lambda x: - 0.25*x**3 + 2*x**2 - 4*x + 4\n",
    "fun_prime = lambda x: -0.75*x**2 + 4*x - 4\n",
    "\n",
    "@interact(a=(-1,4.49,0.01), h=(0.01,1.5,0.01))\n",
    "def plot_derivative(a=2.5, h=1.5):\n",
    "    # plot the curve\n",
    "    x = np.linspace(-1, 6, 100)\n",
    "    plt.plot(x, fun(x))\n",
    "    # draw the line\n",
    "    slope = (fun(a+h)-fun(a))/h\n",
    "    plt.axline([a, fun(a)], [a+h, fun(a+h)])\n",
    "    plt.scatter([a, a+h], [fun(a), fun(a+h)])\n",
    "    #slope = draw_line(fun, a, a+h)\n",
    "    \n",
    "    # annotate the graph\n",
    "    plt.xlim([-1, 6])\n",
    "    plt.ylim([-2, 10])\n",
    "    plt.ylabel(\"$f(x)$\")\n",
    "    plt.xlabel(\"$x$\")\n",
    "    plt.text(1, 7, f\"$f'(a)={fun_prime(a):.3f}$\")\n",
    "    plt.text(1, 8, f\"slope$={slope:.3f}$\")"
   ]
  },
  {
   "cell_type": "code",
   "execution_count": 45,
   "id": "0549fccc",
   "metadata": {
    "ExecuteTime": {
     "end_time": "2022-11-06T09:45:08.811897Z",
     "start_time": "2022-11-06T09:45:08.545985Z"
    }
   },
   "outputs": [
    {
     "data": {
      "application/vnd.jupyter.widget-view+json": {
       "model_id": "61334888515c432d9f9411046f22ea07",
       "version_major": 2,
       "version_minor": 0
      },
      "text/plain": [
       "interactive(children=(FloatSlider(value=2.5, description='a', max=4.49, min=-1.0, step=0.01), FloatSlider(valu…"
      ]
     },
     "metadata": {},
     "output_type": "display_data"
    }
   ],
   "source": [
    "import matplotlib.pyplot as plt\n",
    "import numpy as np\n",
    "from ipywidgets import interact\n",
    "\n",
    "def draw_point(fun, x):\n",
    "    plt.vlines(x, -2, fun(x), colors='k', linestyles=\":\", linewidths=1)\n",
    "    plt.hlines(fun(x), -1, x, colors='k', linestyles=\":\", linewidths=1)\n",
    "    plt.plot(x, fun(x), \"o\", c='gray')\n",
    "\n",
    "def draw_line(fun, x1, x2):\n",
    "    draw_point(fun, np.array([x1, x2]))\n",
    "    slope = (fun(x2)-fun(x1))/(x2 - x1)\n",
    "    intercept = fun(x1) - x1 * slope\n",
    "    ax = plt.gca()\n",
    "    x = np.array(ax.get_xlim())\n",
    "    ax.plot(x, slope*x + intercept, color=\"orange\") \n",
    "    return slope\n",
    "\n",
    "fun = lambda x: - 0.25*x**3 + 2*x**2 - 4*x + 4  \n",
    "diff = lambda x: -0.75*x**2 + 4*x - 4\n",
    "\n",
    "@interact(a=(-1,4.49,0.01), h=(0.01,1.5,0.01))\n",
    "def plot_derivative(a=2.5, h=1.5):\n",
    "    plt.figure(figsize=(8, 4))\n",
    "    # plot the curve\n",
    "    x = np.linspace(-1, 6, 100)\n",
    "    plt.plot(x, fun(x), color=\"black\")\n",
    "    # draw the line\n",
    "    slope = draw_line(fun, a, a+h)\n",
    "    # annotate the graph\n",
    "    plt.xlim([-1, 6])\n",
    "    plt.ylim([-2, 10])\n",
    "    plt.ylabel(\"$f(x)$\")\n",
    "    plt.xlabel(\"$x$\")\n",
    "    frac_text = \"{f(a + h) - f(a)}{h}\"\n",
    "    plt.text(4.5, 8, f\"$f'(a)={diff(a):.3f}$\", size=12)\n",
    "    plt.text(0, 8, f\"slope $=\\dfrac{frac_text} = {slope:.3f}$\", size=12, color = \"crimson\")"
   ]
  },
  {
   "cell_type": "code",
   "execution_count": null,
   "id": "5428c00a",
   "metadata": {},
   "outputs": [],
   "source": [
    "import matplotlib.pyplot as plt\n",
    "import numpy as np\n",
    "from ipywidgets import interact\n",
    "\n",
    "def draw_point(fun, x):\n",
    "    plt.vlines(x, -2, fun(x), colors='k', linestyles=\":\", linewidths=1)\n",
    "    plt.hlines(fun(x), -1, x, colors='k', linestyles=\":\", linewidths=1)\n",
    "    plt.plot(x, fun(x), \"o\", c='g')\n",
    "\n",
    "def draw_line(fun, x1, x2):\n",
    "    draw_point(fun, np.array([x1, x2]))\n",
    "    slope = (fun(x2)-fun(x1))/(x2 - x1)\n",
    "    intercept = fun(x1) - x1 * slope\n",
    "    ax = plt.gca()\n",
    "    x = np.array(ax.get_xlim())\n",
    "    ax.plot(x, slope*x + intercept) \n",
    "    return slope\n",
    "\n",
    "fun = lambda x: - 0.25*x**3 + 2*x**2 - 4*x + 4  \n",
    "\n",
    "@interact(a=(-1,4.49,0.01), h=(0.01,1.5,0.01))\n",
    "def plot_derivative(a=2.5, h=1.5):\n",
    "    # plot the curve\n",
    "    x = np.linspace(-1, 6, 100)\n",
    "    plt.plot(x, fun(x))\n",
    "    # draw the line\n",
    "    slope = draw_line(fun, a, a+h)\n",
    "    # annotate the graph\n",
    "    plt.xlim([-1, 6])\n",
    "    plt.ylim([-2, 10])\n",
    "    plt.ylabel(\"$f(x)$\")\n",
    "    plt.xlabel(\"$x$\")\n",
    "    plt.text(1, 7, f\"$f'(a)={(-0.75*a**2 + 4*a - 4):.3f}$\")\n",
    "    plt.text(1, 8, f\"slope$={slope:.3f}$\")"
   ]
  },
  {
   "cell_type": "code",
   "execution_count": 29,
   "id": "2ff84612",
   "metadata": {
    "ExecuteTime": {
     "end_time": "2022-10-24T06:05:22.241578Z",
     "start_time": "2022-10-24T06:05:22.229505Z"
    }
   },
   "outputs": [
    {
     "data": {
      "text/plain": [
       "'$\\x0crac {f(2.5+1.5)-f(2.5)\\\\}{1.5}$'"
      ]
     },
     "execution_count": 29,
     "metadata": {},
     "output_type": "execute_result"
    }
   ],
   "source": [
    "a=2.5\n",
    "h=1.5\n",
    "\"$\\frac {\" + f\"f({a}+{h})-f({a})\" + \"\\}{\" + f\"{h}\" + \"}$\""
   ]
  },
  {
   "cell_type": "code",
   "execution_count": 1,
   "id": "696422c8",
   "metadata": {
    "ExecuteTime": {
     "end_time": "2022-10-24T05:43:53.435514Z",
     "start_time": "2022-10-24T05:43:53.023948Z"
    }
   },
   "outputs": [
    {
     "ename": "NameError",
     "evalue": "name 'plt' is not defined",
     "output_type": "error",
     "traceback": [
      "\u001b[0;31m---------------------------------------------------------------------------\u001b[0m",
      "\u001b[0;31mNameError\u001b[0m                                 Traceback (most recent call last)",
      "Cell \u001b[0;32mIn [1], line 43\u001b[0m\n\u001b[1;32m     37\u001b[0m     ax\u001b[38;5;241m.\u001b[39mplot(x, linear(x))\n\u001b[1;32m     39\u001b[0m     plt\u001b[38;5;241m.\u001b[39mtitle(\u001b[38;5;124mf\u001b[39m\u001b[38;5;124m\"\u001b[39m\u001b[38;5;124m$h=\u001b[39m\u001b[38;5;132;01m{\u001b[39;00mx2\u001b[38;5;241m-\u001b[39mx1\u001b[38;5;132;01m:\u001b[39;00m\u001b[38;5;124m.3f\u001b[39m\u001b[38;5;132;01m}\u001b[39;00m\u001b[38;5;124m$: $slope = \u001b[39m\u001b[38;5;132;01m{\u001b[39;00mslope\u001b[38;5;132;01m:\u001b[39;00m\u001b[38;5;124m.3f\u001b[39m\u001b[38;5;132;01m}\u001b[39;00m\u001b[38;5;124m$\u001b[39m\u001b[38;5;124m\"\u001b[39m)\n\u001b[0;32m---> 43\u001b[0m fig, axs \u001b[38;5;241m=\u001b[39m \u001b[43mplt\u001b[49m\u001b[38;5;241m.\u001b[39msubplots(ncols\u001b[38;5;241m=\u001b[39m\u001b[38;5;241m4\u001b[39m, figsize\u001b[38;5;241m=\u001b[39m(\u001b[38;5;241m16\u001b[39m,\u001b[38;5;241m4\u001b[39m))\n\u001b[1;32m     45\u001b[0m axs \u001b[38;5;241m=\u001b[39m axs\u001b[38;5;241m.\u001b[39mflat\n\u001b[1;32m     47\u001b[0m fun \u001b[38;5;241m=\u001b[39m \u001b[38;5;28;01mlambda\u001b[39;00m x: \u001b[38;5;241m-\u001b[39m \u001b[38;5;241m0.25\u001b[39m\u001b[38;5;241m*\u001b[39mx\u001b[38;5;241m*\u001b[39m\u001b[38;5;241m*\u001b[39m\u001b[38;5;241m3\u001b[39m \u001b[38;5;241m+\u001b[39m \u001b[38;5;241m2\u001b[39m\u001b[38;5;241m*\u001b[39mx\u001b[38;5;241m*\u001b[39m\u001b[38;5;241m*\u001b[39m\u001b[38;5;241m2\u001b[39m \u001b[38;5;241m-\u001b[39m \u001b[38;5;241m4\u001b[39m\u001b[38;5;241m*\u001b[39mx \u001b[38;5;241m+\u001b[39m \u001b[38;5;241m4\u001b[39m  \n",
      "\u001b[0;31mNameError\u001b[0m: name 'plt' is not defined"
     ]
    }
   ],
   "source": [
    "\n",
    "\n",
    "def quick_format():\n",
    "    ax = plt.gca()\n",
    "    \n",
    "    ax.set_aspect('equal')\n",
    "    plt.xlim([-0.4, 5.4])\n",
    "    plt.ylim([-0.4, 5.4])\n",
    "    plt.xticks([i for i in range(6)])\n",
    "    plt.yticks([i for i in range(6)])\n",
    "    \n",
    "    for key, spine in ax.spines.items():\n",
    "        spine.set(visible=False)\n",
    "    plt.grid(lw=0.3)\n",
    "    plt.tick_params(bottom=False, left=False)\n",
    "    \n",
    "    plt.arrow(0, 0, 0, 1, length_includes_head=True, head_width=0.2, color='k')\n",
    "    plt.arrow(0, 0, 1, 0, length_includes_head=True, head_width=0.2, color='k')\n",
    "    \n",
    "    ax.axhline(0, c='k', lw=0.7)\n",
    "    ax.axvline(0, c='k', lw=0.7)\n",
    "    \n",
    "\n",
    "def draw_point(fun, x):\n",
    "    plt.vlines(x, 0, fun(x), colors='k', linestyles=\":\", linewidths=1)\n",
    "    plt.hlines(fun(x), 0, x, colors='k', linestyles=\":\", linewidths=1)\n",
    "    plt.plot(x, fun(x), \"o\", c='g')\n",
    "\n",
    "def draw_points(fun, x):\n",
    "    plt.plot(x, fun(x), \"o\", c='g')  \n",
    "    \n",
    "def draw_line(fun, x1, x2):\n",
    "    draw_point(fun, np.array([x1, x2]))\n",
    "    slope = (fun(x2)-fun(x1))/(x2 - x1)\n",
    "    intercept = fun(x1) - x1 * slope\n",
    "    linear = linear_function(intercept=intercept, slope=slope)\n",
    "    ax = plt.gca()\n",
    "    x = np.array(ax.get_xlim())\n",
    "    ax.plot(x, linear(x))\n",
    "    \n",
    "    plt.title(f\"$h={x2-x1:.3f}$: $slope = {slope:.3f}$\")\n",
    "    \n",
    "\n",
    "\n",
    "fig, axs = plt.subplots(ncols=4, figsize=(16,4))\n",
    "\n",
    "axs = axs.flat\n",
    "\n",
    "fun = lambda x: - 0.25*x**3 + 2*x**2 - 4*x + 4  \n",
    "a=2.5\n",
    "\n",
    "## Draw 100 points\n",
    "##################\n",
    "plt.sca(next(axs))\n",
    "x = np.linspace(0,9, 100)\n",
    "plt.plot(x, fun(x))\n",
    "h = 1.5\n",
    "draw_line(fun, a, a+h)\n",
    "\n",
    "quick_format()\n",
    "\n",
    "## Draw 100 points\n",
    "##################\n",
    "plt.sca(next(axs))\n",
    "x = np.linspace(0, 9, 100)\n",
    "plt.plot(x, fun(x))\n",
    "h /= 2\n",
    "draw_line(fun, a, a+h)\n",
    "\n",
    "quick_format()\n",
    "\n",
    "## Draw 100 points\n",
    "##################\n",
    "plt.sca(next(axs))\n",
    "x = np.linspace(0, 9, 100)\n",
    "plt.plot(x, fun(x))\n",
    "h /= 2\n",
    "draw_line(fun, a, a+h)\n",
    "\n",
    "quick_format()\n",
    "\n",
    "## Draw 100 points\n",
    "##################\n",
    "plt.sca(next(axs))\n",
    "x = np.linspace(0,9, 100)\n",
    "plt.plot(x, fun(x))\n",
    "draw_line(fun, 2.5, 2.501)\n",
    "\n",
    "quick_format()"
   ]
  },
  {
   "cell_type": "code",
   "execution_count": null,
   "id": "123f38e1",
   "metadata": {},
   "outputs": [],
   "source": []
  }
 ],
 "metadata": {
  "kernelspec": {
   "display_name": "Python 3 (ipykernel)",
   "language": "python",
   "name": "python3"
  },
  "language_info": {
   "codemirror_mode": {
    "name": "ipython",
    "version": 3
   },
   "file_extension": ".py",
   "mimetype": "text/x-python",
   "name": "python",
   "nbconvert_exporter": "python",
   "pygments_lexer": "ipython3",
   "version": "3.8.13"
  },
  "toc": {
   "base_numbering": 1,
   "nav_menu": {},
   "number_sections": true,
   "sideBar": true,
   "skip_h1_title": false,
   "title_cell": "Table of Contents",
   "title_sidebar": "Contents",
   "toc_cell": false,
   "toc_position": {},
   "toc_section_display": true,
   "toc_window_display": false
  }
 },
 "nbformat": 4,
 "nbformat_minor": 5
}
